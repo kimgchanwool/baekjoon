{
 "cells": [
  {
   "cell_type": "code",
   "execution_count": 19,
   "id": "1cb86c76",
   "metadata": {},
   "outputs": [],
   "source": [
    "import numpy as np"
   ]
  },
  {
   "cell_type": "code",
   "execution_count": 20,
   "id": "addf56bf",
   "metadata": {},
   "outputs": [],
   "source": [
    "total_x, total_y, n = 3, 4, 5"
   ]
  },
  {
   "cell_type": "code",
   "execution_count": 21,
   "id": "b3d86b6b",
   "metadata": {},
   "outputs": [
    {
     "data": {
      "text/plain": [
       "[[0, 0], [1, 1], [1, 2], [2, 0], [2, 1]]"
      ]
     },
     "execution_count": 21,
     "metadata": {},
     "output_type": "execute_result"
    }
   ],
   "source": [
    "xys = '''3 2\n",
    "2 2\n",
    "3 1\n",
    "2 3\n",
    "1 1'''.split('\\n')\n",
    "for idx, xy in enumerate(xys):\n",
    "    x, y = xy.split(' ')\n",
    "    xys[idx] = [int(x) - 1, int(y)-1]\n",
    "xys  = sorted(xys)\n",
    "xys"
   ]
  },
  {
   "cell_type": "code",
   "execution_count": null,
   "id": "cab2fbe9",
   "metadata": {},
   "outputs": [],
   "source": [
    "arr = np.zeros([total_x, total_y])\n",
    "for x, y in xys:\n",
    "    arr[x][y] = 1\n",
    "def check_udlr(now_xy, arr, cnt):\n",
    "\n",
    "answer= 0\n",
    "for x, y in xys:\n",
    "    arr, now = check_udlr([x, y], arr, 0)\n",
    "    if answer < now:\n",
    "        answer = now\n",
    "    visited = []\n",
    "    udlr = [[1, 0], [0, 1], [-1, 0], [0, -1]]\n",
    "    for i in udlr:\n",
    "        new_x, new_y = i[0] + now_xy[0], i[1] + now_xy[1]\n",
    "        if new_x > - 1 and new_y > -1 and new_x < total_x and new_y < total_y and arr[new_x][new_y] == 1:\n",
    "            visited.append(new_x, new_y)\n",
    "    return arr, cnt   \n",
    "        \n",
    "print(answer)"
   ]
  }
 ],
 "metadata": {
  "kernelspec": {
   "display_name": "Python 3 (ipykernel)",
   "language": "python",
   "name": "python3"
  },
  "language_info": {
   "codemirror_mode": {
    "name": "ipython",
    "version": 3
   },
   "file_extension": ".py",
   "mimetype": "text/x-python",
   "name": "python",
   "nbconvert_exporter": "python",
   "pygments_lexer": "ipython3",
   "version": "3.9.7"
  }
 },
 "nbformat": 4,
 "nbformat_minor": 5
}
